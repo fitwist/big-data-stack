{
  "nbformat": 4,
  "nbformat_minor": 0,
  "metadata": {
    "colab": {
      "name": "рнс.ipynb",
      "provenance": [],
      "collapsed_sections": []
    },
    "kernelspec": {
      "name": "python3",
      "display_name": "Python 3"
    }
  },
  "cells": [
    {
      "cell_type": "code",
      "metadata": {
        "id": "WOaMsT17IZpX",
        "colab_type": "code",
        "colab": {}
      },
      "source": [
        "# В 2017 году Яндекс создал нейросеть-поэтессу по имени Зинаида Фолс. Стихи получились забавные, но работы предстоит еще много; надеюсь, в будущем работа редактора текста \n",
        "# с помощью таких продуктов станет легче. Давайте создадим подобную программу. В этом нам поможет рекуррентная нейронная сеть.\n",
        "import tensorflow as tf\n",
        "\n",
        "# numpy понадобится для работы с тензорами\n",
        "import numpy as np\n",
        "\n",
        "# os – для именования промежуточных файлов-чекпоинтов\n",
        "import os\n",
        "\n",
        "# а time – для инициализации эпох\n",
        "import time\n",
        "\n",
        "# Используем текст шекспировской \"Трагедии о Кариолане\"\n",
        "path_to_file = tf.keras.utils.get_file('shakespeare.txt', 'https://storage.googleapis.com/download.tensorflow.org/data/shakespeare.txt')"
      ],
      "execution_count": 0,
      "outputs": []
    },
    {
      "cell_type": "code",
      "metadata": {
        "id": "_Vxd0lTLLAdz",
        "colab_type": "code",
        "outputId": "106891f0-89b2-4895-c6cb-d67a73101458",
        "colab": {
          "base_uri": "https://localhost:8080/",
          "height": 34
        }
      },
      "source": [
        "# Откроем текст, вычитаем его и обозначим кодировку – формат преобразования Юникода, 8-бит\n",
        "text = open(path_to_file, 'rb').read().decode(encoding='utf-8')\n",
        "# Отобразим количество знаков c помощью метода подстановки format(). len() определит длину объекта.\n",
        "print ('Количество знаков: {}'.format(len(text)))"
      ],
      "execution_count": 20,
      "outputs": [
        {
          "output_type": "stream",
          "text": [
            "Количество знаков: 1115394\n"
          ],
          "name": "stdout"
        }
      ]
    },
    {
      "cell_type": "code",
      "metadata": {
        "id": "dtS69OSPLBC4",
        "colab_type": "code",
        "outputId": "c5be5d84-bb6d-4be0-fdc6-d849b8b3ef22",
        "colab": {
          "base_uri": "https://localhost:8080/",
          "height": 272
        }
      },
      "source": [
        "# Проверим, успешно ли прошло вычитывание. Используем срез и его синтаксиис – квадратные скобки и двоеточие. Так мы запрашиваем отображение символов от 0 до 250. \n",
        "print(text[:250])"
      ],
      "execution_count": 21,
      "outputs": [
        {
          "output_type": "stream",
          "text": [
            "First Citizen:\n",
            "Before we proceed any further, hear me speak.\n",
            "\n",
            "All:\n",
            "Speak, speak.\n",
            "\n",
            "First Citizen:\n",
            "You are all resolved rather to die than to famish?\n",
            "\n",
            "All:\n",
            "Resolved. resolved.\n",
            "\n",
            "First Citizen:\n",
            "First, you know Caius Marcius is chief enemy to the people.\n",
            "\n"
          ],
          "name": "stdout"
        }
      ]
    },
    {
      "cell_type": "code",
      "metadata": {
        "id": "T80u84w4QzRU",
        "colab_type": "code",
        "outputId": "0d266883-4245-419f-cfac-90dfd1708bd5",
        "colab": {
          "base_uri": "https://localhost:8080/",
          "height": 34
        }
      },
      "source": [
        "# Создадим объект vocabulary, который отсортирует символы в алфавитном порядке, затем вычленит уникальные с помощью множества.\n",
        "vocab = sorted(set(text))\n",
        "# Отобразим количество уникальных символов \n",
        "print ('{} уникальных символов'.format(len(vocab)))"
      ],
      "execution_count": 22,
      "outputs": [
        {
          "output_type": "stream",
          "text": [
            "65 уникальных символов\n"
          ],
          "name": "stdout"
        }
      ]
    },
    {
      "cell_type": "code",
      "metadata": {
        "id": "Olx6Buewuk5b",
        "colab_type": "code",
        "outputId": "6171aa31-bcad-4e7a-c188-2c606fc3cbbb",
        "colab": {
          "base_uri": "https://localhost:8080/",
          "height": 408
        }
      },
      "source": [
        "# Прежде чем начать тренировку, нам необходимо создать численное представление строк. Создадим справочные таблицы, преобразующие символы char в индексы idx и обратно.\n",
        "# Функция enumerate сгенерирует кортеж, состоящий из двух элементов - индекса и символа\n",
        "char2idx = {u:i for i, u in enumerate(vocab)}\n",
        "# Преобразуем словарь в массив\n",
        "idx2char = np.array(vocab)\n",
        "\n",
        "# Создадим объект \"Текст как набор целочисленных значений\"\n",
        "text_as_int = np.array([char2idx[c] for c in text])\n",
        "# Посмотрим, что получилось. В рехультирующем кортеже каждому встреченном символу присвоен уникальный ID. Фигурные скобки упростят восприятие.\n",
        "print('{')\n",
        "# Мы используем char – каждый символ кортежа char2idx, чтобы инициализировать цикл for. Переменная \"underscore\" (нижнее подчеркивание) в Python используется по общепринятому соглашению только в цикле\n",
        "# в дальнейшем она будет отброшена. zip позволяет пройтись одновременно по нескольким итерируемым объектам – char2idx, range(20). Так мы запрашиваем 20 элементов кортежа.\n",
        "for char,_ in zip(char2idx, range(20)):\n",
        "    # \"Двоеточие 4s\" – это способ запросить срез с первого по четвертый элемент строки, обозначаемой s. Тоже самое для 'semicolon 3d', только символов меньше, \n",
        "    # и на выходе десятичное число.\n",
        "    print('  {:4s}: {:3d},'.format(repr(char), char2idx[char]))\n",
        "# Весь кортеж отображать не будем, потому условно обозначим продолжение троеточием\n",
        "print('  ...\\n}')"
      ],
      "execution_count": 23,
      "outputs": [
        {
          "output_type": "stream",
          "text": [
            "{\n",
            "  '\\n':   0,\n",
            "  ' ' :   1,\n",
            "  '!' :   2,\n",
            "  '$' :   3,\n",
            "  '&' :   4,\n",
            "  \"'\" :   5,\n",
            "  ',' :   6,\n",
            "  '-' :   7,\n",
            "  '.' :   8,\n",
            "  '3' :   9,\n",
            "  ':' :  10,\n",
            "  ';' :  11,\n",
            "  '?' :  12,\n",
            "  'A' :  13,\n",
            "  'B' :  14,\n",
            "  'C' :  15,\n",
            "  'D' :  16,\n",
            "  'E' :  17,\n",
            "  'F' :  18,\n",
            "  'G' :  19,\n",
            "  ...\n",
            "}\n"
          ],
          "name": "stdout"
        }
      ]
    },
    {
      "cell_type": "code",
      "metadata": {
        "id": "Hu7B5GmVusyI",
        "colab_type": "code",
        "outputId": "4134144e-ff31-4c45-b91b-d043626d02fa",
        "colab": {
          "base_uri": "https://localhost:8080/",
          "height": 34
        }
      },
      "source": [
        "# Произведем тестовый мэппинг. Используем срез символов с нулевого по тринадцатый и тензор text_as_int\n",
        "print ('{} ----> Определение соответствия символов индексам ---- > {}'.format(repr(text[:13]), text_as_int[:13]))"
      ],
      "execution_count": 24,
      "outputs": [
        {
          "output_type": "stream",
          "text": [
            "'First Citizen' ----> Определение соответствия символов индексам ---- > [18 47 56 57 58  1 15 47 58 47 64 43 52]\n"
          ],
          "name": "stdout"
        }
      ]
    },
    {
      "cell_type": "code",
      "metadata": {
        "id": "xiyR7fCfuuGo",
        "colab_type": "code",
        "outputId": "a315c831-9527-46c6-83d0-147d092e689d",
        "colab": {
          "base_uri": "https://localhost:8080/",
          "height": 102
        }
      },
      "source": [
        "# Поставим РНС задачу предсказать следующий символ для начала. Разделим текст на sequences длиной 100 символов.\n",
        "seq_length = 100\n",
        "# Подсчитаем, сколько таких последовательностей в одной эпохе тренировки. Для этого длину всего текста разделим на длину последовательности плюс единица.\n",
        "examples_per_epoch = len(text)//(seq_length+1)\n",
        "\n",
        "# Создадим тренировочный датасет символов, состоящий из слайсов.\n",
        "char_dataset = tf.data.Dataset.from_tensor_slices(text_as_int)\n",
        "\n",
        "# Где еще встретишь столько способов объявить цикл?! Мотаем на ус вместе. Методом take() в цикле for отобразим первые 5 элементов датасета. Здесь numpy копирует \n",
        "# символы в скаляр и выводит их.\n",
        "for i in char_dataset.take(5):\n",
        "  print(idx2char[i.numpy()])"
      ],
      "execution_count": 25,
      "outputs": [
        {
          "output_type": "stream",
          "text": [
            "F\n",
            "i\n",
            "r\n",
            "s\n",
            "t\n"
          ],
          "name": "stdout"
        }
      ]
    },
    {
      "cell_type": "code",
      "metadata": {
        "id": "Jm9Kzkmvuv-w",
        "colab_type": "code",
        "outputId": "fb9e08c3-4116-4e4b-afca-3918bf9261d9",
        "colab": {
          "base_uri": "https://localhost:8080/",
          "height": 102
        }
      },
      "source": [
        "# Создадим объект sequences. Это результат конвертации char_dataset в т.н. партию (batch) – последовательность нужного размера. Отбросим остаток с помощью булевого \n",
        "# параметра drop_remainder.\n",
        "sequences = char_dataset.batch(seq_length+1, drop_remainder=True)\n",
        "\n",
        "# Посмотрим первые пять партий. Разрывы строк обозначаются как 'backslash n'. Метод join() снова объединяет символы в слова и предложения. \n",
        "for item in sequences.take(5):\n",
        "  print(repr(''.join(idx2char[item.numpy()])))"
      ],
      "execution_count": 26,
      "outputs": [
        {
          "output_type": "stream",
          "text": [
            "'First Citizen:\\nBefore we proceed any further, hear me speak.\\n\\nAll:\\nSpeak, speak.\\n\\nFirst Citizen:\\nYou '\n",
            "'are all resolved rather to die than to famish?\\n\\nAll:\\nResolved. resolved.\\n\\nFirst Citizen:\\nFirst, you k'\n",
            "\"now Caius Marcius is chief enemy to the people.\\n\\nAll:\\nWe know't, we know't.\\n\\nFirst Citizen:\\nLet us ki\"\n",
            "\"ll him, and we'll have corn at our own price.\\nIs't a verdict?\\n\\nAll:\\nNo more talking on't; let it be d\"\n",
            "'one: away, away!\\n\\nSecond Citizen:\\nOne word, good citizens.\\n\\nFirst Citizen:\\nWe are accounted poor citi'\n"
          ],
          "name": "stdout"
        }
      ]
    },
    {
      "cell_type": "code",
      "metadata": {
        "id": "iPbpUkRIuxZ-",
        "colab_type": "code",
        "outputId": "548119e4-3ca8-49e8-d2c2-7e123da9dc83",
        "colab": {
          "base_uri": "https://localhost:8080/",
          "height": 51
        }
      },
      "source": [
        "# Определим функцию \"разделить вводные данные\", определив аргумент-кусок (chunk) и отделим по первому и последнему символу у передаваемого функции объекта. \n",
        "# Это понадобится потом. \n",
        "def split_input_target(chunk):\n",
        "    input_text = chunk[:-1]\n",
        "    target_text = chunk[1:]\n",
        "    return input_text, target_text\n",
        "\n",
        "# Мы подбираемся к тренировке еще ближе. Создадим датасет и применим к каждому элементу последовательности разделительную функцию.\n",
        "dataset = sequences.map(split_input_target)\n",
        "\n",
        "# Выведем примеры этих кусков, соединив символы\n",
        "for input_example, target_example in dataset.take(1):\n",
        "  print ('Вводные данные: ', repr(''.join(idx2char[input_example.numpy()])))\n",
        "  print ('Целевые данные:', repr(''.join(idx2char[target_example.numpy()])))"
      ],
      "execution_count": 27,
      "outputs": [
        {
          "output_type": "stream",
          "text": [
            "Вводные данные:  'First Citizen:\\nBefore we proceed any further, hear me speak.\\n\\nAll:\\nSpeak, speak.\\n\\nFirst Citizen:\\nYou'\n",
            "Целевые данные: 'irst Citizen:\\nBefore we proceed any further, hear me speak.\\n\\nAll:\\nSpeak, speak.\\n\\nFirst Citizen:\\nYou '\n"
          ],
          "name": "stdout"
        }
      ]
    },
    {
      "cell_type": "code",
      "metadata": {
        "id": "n6lWBNqpu1P_",
        "colab_type": "code",
        "outputId": "214185b6-e895-4a8d-814e-dc73998be568",
        "colab": {
          "base_uri": "https://localhost:8080/",
          "height": 272
        }
      },
      "source": [
        "# Теперь мы пошагово отобразим, какая буква последует за какой. Используем векторы input_text и ее смещенного собрата target_text. Это пока имитация предсказания символа.\n",
        "for i, (input_idx, target_idx) in enumerate(zip(input_example[:5], target_example[:5])):\n",
        "    print(\"Шаг {:4d}\".format(i))\n",
        "    print(\"  Ввод: {} ({:s})\".format(input_idx, repr(idx2char[input_idx])))\n",
        "    print(\"  Ожидаемый символ: {} ({:s})\".format(target_idx, repr(idx2char[target_idx])))"
      ],
      "execution_count": 28,
      "outputs": [
        {
          "output_type": "stream",
          "text": [
            "Шаг    0\n",
            "  Ввод: 18 ('F')\n",
            "  Ожидаемый символ: 47 ('i')\n",
            "Шаг    1\n",
            "  Ввод: 47 ('i')\n",
            "  Ожидаемый символ: 56 ('r')\n",
            "Шаг    2\n",
            "  Ввод: 56 ('r')\n",
            "  Ожидаемый символ: 57 ('s')\n",
            "Шаг    3\n",
            "  Ввод: 57 ('s')\n",
            "  Ожидаемый символ: 58 ('t')\n",
            "Шаг    4\n",
            "  Ввод: 58 ('t')\n",
            "  Ожидаемый символ: 1 (' ')\n"
          ],
          "name": "stdout"
        }
      ]
    },
    {
      "cell_type": "code",
      "metadata": {
        "id": "_t-UTyUgu3Be",
        "colab_type": "code",
        "outputId": "5408e5c9-04c9-48d1-bd3d-0c11362a3cb2",
        "colab": {
          "base_uri": "https://localhost:8080/",
          "height": 34
        }
      },
      "source": [
        "# Определим размер партии и размер буфера для ее перемещения. TensorFlow спроектирован, чтобы работать с бесконечными последовательностями, за всю сразу он не будет браться. \n",
        "# Вместо этого он оперирует элементами в специальном буфере.\n",
        "BATCH_SIZE = 64\n",
        "BUFFER_SIZE = 10000\n",
        "\n",
        "# Переопределим датасет, параметризировав перетасовку партий с откидыванием десятичных знаков ее размера \n",
        "dataset = dataset.shuffle(BUFFER_SIZE).batch(BATCH_SIZE, drop_remainder=True)\n",
        "\n",
        "# Посмотрим, какими свойствами он теперь обладает. 64 характеризует размер партии, 100 – ее размер, причем тип жанных – 64-разрядное целое число со знаком.\n",
        "dataset"
      ],
      "execution_count": 29,
      "outputs": [
        {
          "output_type": "execute_result",
          "data": {
            "text/plain": [
              "<BatchDataset shapes: ((64, 100), (64, 100)), types: (tf.int64, tf.int64)>"
            ]
          },
          "metadata": {
            "tags": []
          },
          "execution_count": 29
        }
      ]
    },
    {
      "cell_type": "code",
      "metadata": {
        "id": "o_NDXPgau5GP",
        "colab_type": "code",
        "outputId": "b87d99b2-c0fb-49cd-f4a5-342b18af6767",
        "colab": {
          "base_uri": "https://localhost:8080/",
          "height": 51
        }
      },
      "source": [
        "# Создадим переменную vocabulary size, которая характеризует размер словаря символов\n",
        "vocab_size = len(vocab)\n",
        "\n",
        "# Также нам понадобится так называемое встраивамое измерение\n",
        "embedding_dim = 256\n",
        "\n",
        "# И количество юнитов рекуррентной нейронной сети. Подождите, сейчас все встанет не свои места.\n",
        "rnn_units = 1024\n",
        "\n",
        "# Определим функцию – построитель модели, которая примет только что созданные аргументы, и размер партии\n",
        "def build_model(vocab_size, embedding_dim, rnn_units, batch_size):\n",
        "  # Модель будет использовать функцию последовательности интерфейса Keras\n",
        "  model = tf.keras.Sequential([\n",
        "    tf.keras.layers.Embedding(vocab_size, embedding_dim,\n",
        "                              # batch_input_shape определяет, какого размера должна быть входная партия и исключает создание векторов переменного размера. None здесь,\n",
        "                              # чтобы охарактеризовать отсутствие временных шагов\n",
        "                              batch_input_shape=[batch_size, None]),\n",
        "    # Если возвратная нейросеть принимает на входе учебные данные и данные предыдущей итерации обучения, то Управляемый рекуррентный блок (GRU) использует фильтры сброса \n",
        "    # и обновления, тем самым очищая датасет от случайных вхождений. rnn_units описывает размерность выходного пространства, \n",
        "    tf.keras.layers.GRU(rnn_units,\n",
        "                        # return_sequences – это булевый параметр, по умолчанию равный False. Он вернет часть выходной последовательности или всю ее целиком\n",
        "                        return_sequences=True,\n",
        "                        # Если True, последнее состояние для каждого образца с индексом i в партии будет использоваться в качестве исходного состояния для образца индекса i \n",
        "                        # в следующей партии.\n",
        "                        stateful=True,\n",
        "                        # Инициализируем матрицу весов, которая потребуется для гейтов сброса и обновления\n",
        "                        recurrent_initializer='glorot_uniform'),\n",
        "    tf.keras.layers.Dense(vocab_size)\n",
        "  ])\n",
        "  return model\n",
        "\n",
        "# Построим модель и используем для этого вышеописанные параметры\n",
        "model = build_model(\n",
        "  vocab_size = len(vocab),\n",
        "  embedding_dim=embedding_dim,\n",
        "  rnn_units=rnn_units,\n",
        "  batch_size=BATCH_SIZE)\n",
        "\n",
        "# Проверим еще раз, чему равны величины партий, последовательностей и словарей. example_batch_predictions – понадобится для тестового предсказания последующих символов;\n",
        "# Размеры для всех партий одинаковые\n",
        "for input_example_batch, target_example_batch in dataset.take(2):\n",
        "  example_batch_predictions = model(input_example_batch)\n",
        "  print(example_batch_predictions.shape)"
      ],
      "execution_count": 30,
      "outputs": [
        {
          "output_type": "stream",
          "text": [
            "(64, 100, 65)\n",
            "(64, 100, 65)\n"
          ],
          "name": "stdout"
        }
      ]
    },
    {
      "cell_type": "code",
      "metadata": {
        "id": "LiaTL-nsvB6M",
        "colab_type": "code",
        "outputId": "e991c4f7-f996-4bce-d1f5-8ee77d316ac2",
        "colab": {
          "base_uri": "https://localhost:8080/",
          "height": 255
        }
      },
      "source": [
        "# Последовательная модель описана, и вот ее краткие характеристики\n",
        "model.summary()"
      ],
      "execution_count": 31,
      "outputs": [
        {
          "output_type": "stream",
          "text": [
            "Model: \"sequential_2\"\n",
            "_________________________________________________________________\n",
            "Layer (type)                 Output Shape              Param #   \n",
            "=================================================================\n",
            "embedding_2 (Embedding)      (64, None, 256)           16640     \n",
            "_________________________________________________________________\n",
            "gru_2 (GRU)                  (64, None, 1024)          3938304   \n",
            "_________________________________________________________________\n",
            "dense_2 (Dense)              (64, None, 65)            66625     \n",
            "=================================================================\n",
            "Total params: 4,021,569\n",
            "Trainable params: 4,021,569\n",
            "Non-trainable params: 0\n",
            "_________________________________________________________________\n"
          ],
          "name": "stdout"
        }
      ]
    },
    {
      "cell_type": "code",
      "metadata": {
        "id": "Rwv0CON9vDE8",
        "colab_type": "code",
        "outputId": "0b974bb7-3555-4964-8bf9-4b97db68c888",
        "colab": {
          "base_uri": "https://localhost:8080/",
          "height": 119
        }
      },
      "source": [
        "# Мы обучили нейросеть предсказывать символы, посмотрим, как это выглядит в зеркальном численном формате\n",
        "sampled_indices = tf.random.categorical(example_batch_predictions[0], num_samples=1)\n",
        "# Метод squeeze удалит одномерность из тензора\n",
        "sampled_indices = tf.squeeze(sampled_indices,axis=-1).numpy()\n",
        "sampled_indices\n",
        "# Здорово, мы на полпути к сочинению стихов!"
      ],
      "execution_count": 32,
      "outputs": [
        {
          "output_type": "execute_result",
          "data": {
            "text/plain": [
              "array([26, 26, 14, 61,  6, 42, 47, 35, 34,  4, 48, 33, 44, 13, 57,  7, 52,\n",
              "       39, 19, 36, 34,  1, 42, 52, 43, 48, 31, 56, 30, 61, 14, 62, 10, 33,\n",
              "       36,  3, 30, 61, 60, 37, 10, 63, 59, 37, 34, 23, 11, 60, 52, 21,  1,\n",
              "       25,  0, 39, 60, 25,  5, 51, 30, 21, 27, 22, 51, 53, 36, 50, 27, 27,\n",
              "       27, 18, 12, 50, 14, 22, 12, 38, 49, 36,  1, 47, 21, 50, 61, 60, 26,\n",
              "       59, 20, 54, 54, 33, 33, 41, 52, 30, 57,  3, 54, 52, 19,  6])"
            ]
          },
          "metadata": {
            "tags": []
          },
          "execution_count": 32
        }
      ]
    },
    {
      "cell_type": "code",
      "metadata": {
        "id": "dUg2F-TzvGOF",
        "colab_type": "code",
        "outputId": "c15fa79c-3fac-4d61-979d-1fc4efe90fde",
        "colab": {
          "base_uri": "https://localhost:8080/",
          "height": 102
        }
      },
      "source": [
        "print(\"Ввод: \\n\", repr(\"\".join(idx2char[input_example_batch[0]])))\n",
        "print()\n",
        "print(\"Следующий символ: \\n\", repr(\"\".join(idx2char[sampled_indices ])))\n",
        "# Это немного напоминает классический шифр сдвига на N символов, но уже на порядок сложнее, не так ли? Можно сказать, что мы создали свой шифр."
      ],
      "execution_count": 33,
      "outputs": [
        {
          "output_type": "stream",
          "text": [
            "Ввод: \n",
            " 'My crown is in my heart, not on my head;\\nNot decked with diamonds and Indian stones,\\nNor to be seen:'\n",
            "\n",
            "Следующий символ: \n",
            " \"NNBw,diWV&jUfAs-naGXV dnejSrRwBx:UX$RwvY:yuYVK;vnI M\\navM'mRIOJmoXlOOOF?lBJ?ZkX iIlwvNuHppUUcnRs$pnG,\"\n"
          ],
          "name": "stdout"
        }
      ]
    },
    {
      "cell_type": "code",
      "metadata": {
        "id": "Q7CQ8hTvvHmN",
        "colab_type": "code",
        "outputId": "5af5ac29-9bad-4236-dbcb-996056eb4860",
        "colab": {
          "base_uri": "https://localhost:8080/",
          "height": 51
        }
      },
      "source": [
        "# Перепишем функцию минимизации потерь, ярлыки и ненормализованные предсказания модели – logits\n",
        "def loss(labels, logits):\n",
        "  return tf.keras.losses.sparse_categorical_crossentropy(labels, logits, from_logits=True)\n",
        "\n",
        "# Переопределим example_batch_loss и применим к объекту функцию loss\n",
        "example_batch_loss = loss(target_example_batch, example_batch_predictions)\n",
        "print(\"Величины партий, последовательностей и словарей: \", example_batch_predictions.shape)\n",
        "# В большинстве обучающих сетей ошибка рассчитывается как разница между фактическим выходным значением и прогнозируемым выходным значением. Функция, используемая \n",
        "# для вычисления этой ошибки, известна как функция потерь. Ее еще называют функцией ошибки или затрат. Определим скалярные потери.\n",
        "print(\"Скалярные потери: \", example_batch_loss.numpy().mean())"
      ],
      "execution_count": 34,
      "outputs": [
        {
          "output_type": "stream",
          "text": [
            "Величины партий, последовательностей и словарей:  (64, 100, 65)\n",
            "Скалярные потери:  4.1733227\n"
          ],
          "name": "stdout"
        }
      ]
    },
    {
      "cell_type": "code",
      "metadata": {
        "id": "G0V1xcmdvKKk",
        "colab_type": "code",
        "outputId": "e03f8113-2489-417b-91ba-1f7ea123f63f",
        "colab": {
          "base_uri": "https://localhost:8080/",
          "height": 595
        }
      },
      "source": [
        "# Скомпилируем модель. Мы хотим минимизировать ошибку предсказания на имеющейся выборке букв, и потому используем метод оптимизации Adam.\n",
        "model.compile(optimizer='adam', loss=loss)\n",
        "# Зададим место сохранения промежуточных результатов\n",
        "checkpoint_dir = './training_checkpoints'\n",
        "# Префикс, первая часть названия чекпоинта, автоматически составится из названия выделенной папки и порядкового номера эпохи.\n",
        "checkpoint_prefix = os.path.join(checkpoint_dir, \"ckpt_{epoch}\")\n",
        "\n",
        "# Колбэк создаст чекпоинты прямо во время обучения нейросети. ModelCheckpoint, кстати, может создать Вам промежуточное состояние обучения, чтобы к нему было \n",
        "# удобнее вернуться позднее \n",
        "checkpoint_callback=tf.keras.callbacks.ModelCheckpoint(\n",
        "    filepath=checkpoint_prefix,\n",
        "    # Веса здесь понимаются как сила воздействия перцептрона на конечное решение выбора буквы.\n",
        "    save_weights_only=True)\n",
        "\n",
        "# Снова разделим процесс на 10 эпох.\n",
        "EPOCHS=10\n",
        "\n",
        "# Объект history – это результат обучения РНС учебной частью данных в обозначенное количество эпох с созданием чекпоинтов\n",
        "history = model.fit(dataset, epochs=EPOCHS, callbacks=[checkpoint_callback])\n",
        "\n",
        "# Поскольку чекпоинты созданы, обозначим, что проводим обучение до последнего их них.\n",
        "tf.train.latest_checkpoint(checkpoint_dir)\n",
        "# Строим модель \n",
        "model = build_model(vocab_size, embedding_dim, rnn_units, batch_size = 1)\n",
        "# И используем самые точные веса последнего чекпоинта\n",
        "model.load_weights(tf.train.latest_checkpoint(checkpoint_dir))\n",
        "\n",
        "# Спецификатор TensorShape характеризует форму тензора: мы знаем количество разрешений, но не знаем их размер, потому единица и None.\n",
        "model.build(tf.TensorShape([1, None]))\n",
        "model.summary()"
      ],
      "execution_count": 35,
      "outputs": [
        {
          "output_type": "stream",
          "text": [
            "Epoch 1/10\n",
            "172/172 [==============================] - 874s 5s/step - loss: 2.6653\n",
            "Epoch 2/10\n",
            "172/172 [==============================] - 871s 5s/step - loss: 1.9619\n",
            "Epoch 3/10\n",
            "172/172 [==============================] - 906s 5s/step - loss: 1.6926\n",
            "Epoch 4/10\n",
            "172/172 [==============================] - 875s 5s/step - loss: 1.5442\n",
            "Epoch 5/10\n",
            "172/172 [==============================] - 872s 5s/step - loss: 1.4583\n",
            "Epoch 6/10\n",
            "172/172 [==============================] - 896s 5s/step - loss: 1.3974\n",
            "Epoch 7/10\n",
            "172/172 [==============================] - 888s 5s/step - loss: 1.3522\n",
            "Epoch 8/10\n",
            "172/172 [==============================] - 868s 5s/step - loss: 1.3144\n",
            "Epoch 9/10\n",
            "172/172 [==============================] - 914s 5s/step - loss: 1.2801\n",
            "Epoch 10/10\n",
            "172/172 [==============================] - 881s 5s/step - loss: 1.2470\n",
            "Model: \"sequential_3\"\n",
            "_________________________________________________________________\n",
            "Layer (type)                 Output Shape              Param #   \n",
            "=================================================================\n",
            "embedding_3 (Embedding)      (1, None, 256)            16640     \n",
            "_________________________________________________________________\n",
            "gru_3 (GRU)                  (1, None, 1024)           3938304   \n",
            "_________________________________________________________________\n",
            "dense_3 (Dense)              (1, None, 65)             66625     \n",
            "=================================================================\n",
            "Total params: 4,021,569\n",
            "Trainable params: 4,021,569\n",
            "Non-trainable params: 0\n",
            "_________________________________________________________________\n"
          ],
          "name": "stdout"
        }
      ]
    },
    {
      "cell_type": "code",
      "metadata": {
        "id": "E0Q428e0vTEb",
        "colab_type": "code",
        "colab": {
          "base_uri": "https://localhost:8080/",
          "height": 867
        },
        "outputId": "eddbfd9c-8a72-4302-9907-26ae2eaa2100"
      },
      "source": [
        "# Определим функцию-генератор текста\n",
        "def generate_text(model, start_string):\n",
        "  # Определим, сколько символов сгенерировать\n",
        "  num_generate = 1000\n",
        "\n",
        "  # Векторизируем первую строку \n",
        "  input_eval = [char2idx[s] for s in start_string]\n",
        "  # Добавим измерение на место с нулевым индексом с помощью метода expand_dims\n",
        "  input_eval = tf.expand_dims(input_eval, 0)\n",
        "\n",
        "  # Опустошим переменную, чтобы сохранить в нее результат\n",
        "  text_generated = []\n",
        "\n",
        "  # Температура – это так называемый гиперпараметр. Чем выше температура, тем менее предсказуем будет выходной текст.\n",
        "  temperature = 1.0\n",
        "\n",
        "  # Сбросим значения переменных модели\n",
        "  model.reset_states()\n",
        "\n",
        "  # Циклом for пробежимся\n",
        "  for i in range(num_generate):\n",
        "      predictions = model(input_eval)\n",
        "      # Удалим измерения партии\n",
        "      predictions = tf.squeeze(predictions, 0)\n",
        "\n",
        "      # Опишем параметр предсказания\n",
        "      predictions = predictions / temperature\n",
        "      predicted_id = tf.random.categorical(predictions, num_samples=1)[-1,0].numpy()\n",
        "\n",
        "      # и передадим предсказанные символы следующей модели, также как и предыдущее скрытое состояние\n",
        "      input_eval = tf.expand_dims([predicted_id], 0)\n",
        "\n",
        "      # и присоединим каждое новое предсказание к предыдущим\n",
        "      text_generated.append(idx2char[predicted_id])\n",
        "\n",
        "  return (start_string + ''.join(text_generated))\n",
        "  print(generate_text(model, start_string=u\"Ромео: \"))\n",
        "\n",
        "model = build_model(\n",
        "    vocab_size=len(vocab),\n",
        "    embedding_dim=embedding_dim,\n",
        "    rnn_units=rnn_units,\n",
        "    batch_size=BATCH_SIZE)\n",
        "\n",
        "# И вот снова с нами Adam как средство улучшения качества предсказания\n",
        "optimizer = tf.keras.optimizers.Adam()\n",
        "\n",
        "# At sign tf.function – это декоратор TensorFlow, он преобразует функцию в граф. Допустим, мы инициализировали вектор V и добавили в него 6 элементов. Ребра E,\n",
        "# описывают их взаимосвязи. Веса, которые нарастят элементы, будут как бы влиять на построение маршрута предсказания. GradientTape – это мощный интерфейс для вычисления градиентов. Нейронная сеть уточняет с каждой итерацией, как взаимосвязаны входные и выходные данные. Чем синее\n",
        "# точка, в которой находится формула предсказания, тем точнее предсказывается результат. Внимательно соблюдаем отступы.\n",
        "@tf.function\n",
        "def train_step(inp, target):\n",
        "    with tf.GradientTape() as tape:\n",
        "        predictions = model(inp)\n",
        "        loss = tf.reduce_mean(\n",
        "            tf.keras.losses.sparse_categorical_crossentropy(\n",
        "                target, predictions, from_logits=True))\n",
        "    grads = tape.gradient(loss, model.trainable_variables)\n",
        "    optimizer.apply_gradients(zip(grads, model.trainable_variables))\n",
        "\n",
        "    return loss\n",
        "\n",
        "\n",
        "# Тренировочный шагов будет десять\n",
        "EPOCHS = 10\n",
        "\n",
        "for epoch in range(EPOCHS):\n",
        "    start = time.time()\n",
        "\n",
        "    # Инициализируем скрытое состояние в начале каждой эпохи, предварительно сбросив значения переменных модели.\n",
        "    hidden = model.reset_states()\n",
        "\n",
        "    # В цикле for отобразим промежуточные результаты тренировки\n",
        "    for (batch_n, (inp, target)) in enumerate(dataset):\n",
        "        loss = train_step(inp, target)\n",
        "\n",
        "        if batch_n % 100 == 0:\n",
        "            template = 'Эпоха {} Партия {} Потеря {}'\n",
        "            print(template.format(epoch+1, batch_n, loss))\n",
        "\n",
        "    # Настроим сохранение чекпоинтов каждые 5 секунд\n",
        "    if (epoch + 1) % 5 == 0:\n",
        "        model.save_weights(checkpoint_prefix.format(epoch=epoch))\n",
        "\n",
        "    # Отобразим характеристики обучения, f здесь – это число с плавающей точкой\n",
        "    print('Эпоха {} Партия {:.4f}'.format(epoch+1, loss))\n",
        "    print('Время на одну эпоху {} сек\\n'.format(time.time() - start))\n",
        "\n",
        "model.save_weights(checkpoint_prefix.format(epoch=epoch))"
      ],
      "execution_count": 48,
      "outputs": [
        {
          "output_type": "stream",
          "text": [
            "Эпоха 1 Партия 0 Потеря 4.174645900726318\n",
            "Эпоха 1 Партия 100 Потеря 2.3427305221557617\n",
            "Эпоха 1 Партия 2.1591\n",
            "Время на одну эпоху 939.772228717804 сек\n",
            "\n",
            "Эпоха 2 Партия 0 Потеря 2.148317337036133\n",
            "Эпоха 2 Партия 100 Потеря 1.8907116651535034\n",
            "Эпоха 2 Партия 1.7703\n",
            "Время на одну эпоху 925.9129273891449 сек\n",
            "\n",
            "Эпоха 3 Партия 0 Потеря 1.812811255455017\n",
            "Эпоха 3 Партия 100 Потеря 1.6637051105499268\n",
            "Эпоха 3 Партия 1.6230\n",
            "Время на одну эпоху 914.2517261505127 сек\n",
            "\n",
            "Эпоха 4 Партия 0 Потеря 1.574855089187622\n",
            "Эпоха 4 Партия 100 Потеря 1.5760409832000732\n",
            "Эпоха 4 Партия 1.4947\n",
            "Время на одну эпоху 922.9875419139862 сек\n",
            "\n",
            "Эпоха 5 Партия 0 Потеря 1.420361042022705\n",
            "Эпоха 5 Партия 100 Потеря 1.4625359773635864\n",
            "Эпоха 5 Партия 1.4310\n",
            "Время на одну эпоху 889.3739519119263 сек\n",
            "\n",
            "Эпоха 6 Партия 0 Потеря 1.4059410095214844\n",
            "Эпоха 6 Партия 100 Потеря 1.4020757675170898\n",
            "Эпоха 6 Партия 1.4102\n",
            "Время на одну эпоху 919.101603269577 сек\n",
            "\n",
            "Эпоха 7 Партия 0 Потеря 1.3456593751907349\n",
            "Эпоха 7 Партия 100 Потеря 1.331418752670288\n",
            "Эпоха 7 Партия 1.3671\n",
            "Время на одну эпоху 938.1188287734985 сек\n",
            "\n",
            "Эпоха 8 Партия 0 Потеря 1.2830008268356323\n",
            "Эпоха 8 Партия 100 Потеря 1.2853001356124878\n",
            "Эпоха 8 Партия 1.3312\n",
            "Время на одну эпоху 910.6176912784576 сек\n",
            "\n",
            "Эпоха 9 Партия 0 Потеря 1.2313032150268555\n",
            "Эпоха 9 Партия 100 Потеря 1.2830064296722412\n",
            "Эпоха 9 Партия 1.2932\n",
            "Время на одну эпоху 902.0567920207977 сек\n",
            "\n",
            "Эпоха 10 Партия 0 Потеря 1.169164776802063\n",
            "Эпоха 10 Партия 100 Потеря 1.1932083368301392\n",
            "Эпоха 10 Партия 1.2809\n",
            "Время на одну эпоху 927.5463666915894 сек\n",
            "\n"
          ],
          "name": "stdout"
        }
      ]
    }
  ]
}