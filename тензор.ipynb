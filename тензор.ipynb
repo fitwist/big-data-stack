{
  "nbformat": 4,
  "nbformat_minor": 0,
  "metadata": {
    "colab": {
      "name": "Тензор.ipynb",
      "provenance": []
    },
    "kernelspec": {
      "name": "python3",
      "display_name": "Python 3"
    }
  },
  "cells": [
    {
      "cell_type": "code",
      "metadata": {
        "id": "eaSkb8jdSrSn",
        "colab_type": "code",
        "outputId": "361f33e3-5299-4963-c40c-bd5ab2da9d17",
        "colab": {
          "base_uri": "https://localhost:8080/",
          "height": 34
        }
      },
      "source": [
        "import numpy as np\n",
        "import tensorflow as tf\n",
        "tensor_1d = np.array([1.3, 1, 4.0, 23.99])\n",
        "print(tensor_1d)"
      ],
      "execution_count": 0,
      "outputs": [
        {
          "output_type": "stream",
          "text": [
            "[ 1.3   1.    4.   23.99]\n"
          ],
          "name": "stdout"
        }
      ]
    },
    {
      "cell_type": "code",
      "metadata": {
        "id": "hUi7IvmrbVRI",
        "colab_type": "code",
        "outputId": "25d9d962-2754-43d8-fc2b-afd0cea6bcf4",
        "colab": {
          "base_uri": "https://localhost:8080/",
          "height": 34
        }
      },
      "source": [
        "print(tensor_1d[3])"
      ],
      "execution_count": 0,
      "outputs": [
        {
          "output_type": "stream",
          "text": [
            "23.99\n"
          ],
          "name": "stdout"
        }
      ]
    },
    {
      "cell_type": "code",
      "metadata": {
        "id": "CQTQx1DObbfg",
        "colab_type": "code",
        "outputId": "c025e592-a1e4-450a-ce78-58dcbfefe1d4",
        "colab": {
          "base_uri": "https://localhost:8080/",
          "height": 85
        }
      },
      "source": [
        "tensor_2d = np.array([(12, 13, 14, 15), (16, 17, 18, 19), (20, 21, 22, 23), (24, 25, 26, 27)])\n",
        "print(tensor_2d)"
      ],
      "execution_count": 0,
      "outputs": [
        {
          "output_type": "stream",
          "text": [
            "[[12 13 14 15]\n",
            " [16 17 18 19]\n",
            " [20 21 22 23]\n",
            " [24 25 26 27]]\n"
          ],
          "name": "stdout"
        }
      ]
    },
    {
      "cell_type": "code",
      "metadata": {
        "id": "i8l4sOYscAU7",
        "colab_type": "code",
        "outputId": "80620fd1-9936-4804-f360-eb6b48abb22d",
        "colab": {
          "base_uri": "https://localhost:8080/",
          "height": 34
        }
      },
      "source": [
        "print(tensor_2d[2][3])"
      ],
      "execution_count": 0,
      "outputs": [
        {
          "output_type": "stream",
          "text": [
            "23\n"
          ],
          "name": "stdout"
        }
      ]
    },
    {
      "cell_type": "code",
      "metadata": {
        "id": "7KMekkJmcgmP",
        "colab_type": "code",
        "outputId": "2d9bce2b-4ee6-4d2f-fca4-5695194a7b24",
        "colab": {
          "base_uri": "https://localhost:8080/",
          "height": 119
        }
      },
      "source": [
        "matrix1 = np.array([(3, 3, 3), (3, 3, 3), (3, 3, 3)])\n",
        "matrix2 = np.array([(4, 4, 4), (4, 4, 4), (4, 4, 4)])\n",
        "print(matrix1)\n",
        "print(matrix2)"
      ],
      "execution_count": 0,
      "outputs": [
        {
          "output_type": "stream",
          "text": [
            "[[3 3 3]\n",
            " [3 3 3]\n",
            " [3 3 3]]\n",
            "[[4 4 4]\n",
            " [4 4 4]\n",
            " [4 4 4]]\n"
          ],
          "name": "stdout"
        }
      ]
    },
    {
      "cell_type": "code",
      "metadata": {
        "id": "2UrDzqpodR_Z",
        "colab_type": "code",
        "outputId": "8f572f13-b48e-4f8f-8462-abd9945a5af2",
        "colab": {
          "base_uri": "https://localhost:8080/",
          "height": 85
        }
      },
      "source": [
        "sum = tf.add(matrix1, matrix2)\n",
        "print(sum)"
      ],
      "execution_count": 0,
      "outputs": [
        {
          "output_type": "stream",
          "text": [
            "tf.Tensor(\n",
            "[[7 7 7]\n",
            " [7 7 7]\n",
            " [7 7 7]], shape=(3, 3), dtype=int64)\n"
          ],
          "name": "stdout"
        }
      ]
    },
    {
      "cell_type": "code",
      "metadata": {
        "id": "QS5UJRoTeFc6",
        "colab_type": "code",
        "outputId": "0f0741c3-ac46-4f71-8a1b-b5c5732c9f2f",
        "colab": {
          "base_uri": "https://localhost:8080/",
          "height": 85
        }
      },
      "source": [
        "subtract = tf.subtract(matrix1, matrix2)\n",
        "print(subtract)"
      ],
      "execution_count": 0,
      "outputs": [
        {
          "output_type": "stream",
          "text": [
            "tf.Tensor(\n",
            "[[-1 -1 -1]\n",
            " [-1 -1 -1]\n",
            " [-1 -1 -1]], shape=(3, 3), dtype=int64)\n"
          ],
          "name": "stdout"
        }
      ]
    },
    {
      "cell_type": "code",
      "metadata": {
        "id": "J3y5rgJHeRUi",
        "colab_type": "code",
        "outputId": "ed120396-42b5-4c5b-b52c-2ba01dc24a79",
        "colab": {
          "base_uri": "https://localhost:8080/",
          "height": 85
        }
      },
      "source": [
        "product = tf.matmul(matrix1, matrix2)\n",
        "print(product)"
      ],
      "execution_count": 0,
      "outputs": [
        {
          "output_type": "stream",
          "text": [
            "tf.Tensor(\n",
            "[[36 36 36]\n",
            " [36 36 36]\n",
            " [36 36 36]], shape=(3, 3), dtype=int64)\n"
          ],
          "name": "stdout"
        }
      ]
    },
    {
      "cell_type": "code",
      "metadata": {
        "id": "XnkSCGnseyMB",
        "colab_type": "code",
        "colab": {}
      },
      "source": [
        ""
      ],
      "execution_count": 0,
      "outputs": []
    }
  ]
}