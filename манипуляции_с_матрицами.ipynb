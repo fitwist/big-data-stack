{
  "nbformat": 4,
  "nbformat_minor": 0,
  "metadata": {
    "colab": {
      "name": "манипуляции_с_матрицами.ipynb",
      "provenance": []
    },
    "kernelspec": {
      "name": "python3",
      "display_name": "Python 3"
    }
  },
  "cells": [
    {
      "cell_type": "code",
      "metadata": {
        "id": "JbD_I3eDgnqm",
        "colab_type": "code",
        "colab": {}
      },
      "source": [
        "import tensorflow as tf\n",
        "import numpy as np"
      ],
      "execution_count": 0,
      "outputs": []
    },
    {
      "cell_type": "code",
      "metadata": {
        "id": "hDQhiPXRgrSd",
        "colab_type": "code",
        "outputId": "b962c8db-39cc-4cdd-d9b2-e1e19e20c56a",
        "colab": {
          "base_uri": "https://localhost:8080/",
          "height": 136
        }
      },
      "source": [
        "matrix1 = np.array([(4, 4, 4), (4, 4, 4), (4, 4, 4)], dtype = 'int32')\n",
        "matrix2 = np.array([(2, 2, 2), (2, 2, 2), (2, 2, 2)], dtype = 'int32')\n",
        "print(matrix1, '\\n')\n",
        "print(matrix2)"
      ],
      "execution_count": 0,
      "outputs": [
        {
          "output_type": "stream",
          "text": [
            "[[4 4 4]\n",
            " [4 4 4]\n",
            " [4 4 4]] \n",
            "\n",
            "[[2 2 2]\n",
            " [2 2 2]\n",
            " [2 2 2]]\n"
          ],
          "name": "stdout"
        }
      ]
    },
    {
      "cell_type": "code",
      "metadata": {
        "id": "-c-zbcjTg6RO",
        "colab_type": "code",
        "outputId": "ac5f6662-a047-4a23-a5ed-62ffa1161c8c",
        "colab": {
          "base_uri": "https://localhost:8080/",
          "height": 238
        }
      },
      "source": [
        "# Произведение\n",
        "matrix_product = tf.matmul(matrix1, matrix2)\n",
        "\n",
        "matrix_sum = tf.add(matrix1, matrix2)\n",
        "\n",
        "# Создание матрицы из чисел с плаваюшей запятой \n",
        "matrix3 = np.array([(2, 7, 2), (1, 4, 2), (9, 0, 2)], dtype = 'float32')\n",
        "print(matrix_product, '\\n')\n",
        "print(matrix_sum, '\\n')\n",
        "print(matrix3)"
      ],
      "execution_count": 0,
      "outputs": [
        {
          "output_type": "stream",
          "text": [
            "tf.Tensor(\n",
            "[[24 24 24]\n",
            " [24 24 24]\n",
            " [24 24 24]], shape=(3, 3), dtype=int32) \n",
            "\n",
            "tf.Tensor(\n",
            "[[6 6 6]\n",
            " [6 6 6]\n",
            " [6 6 6]], shape=(3, 3), dtype=int32) \n",
            "\n",
            "[[2. 7. 2.]\n",
            " [1. 4. 2.]\n",
            " [9. 0. 2.]]\n"
          ],
          "name": "stdout"
        }
      ]
    },
    {
      "cell_type": "code",
      "metadata": {
        "id": "RD4SlL8Ehjdk",
        "colab_type": "code",
        "outputId": "dd59ddb8-2e9c-4bc2-dc6f-f1a8a4920336",
        "colab": {
          "base_uri": "https://localhost:8080/",
          "height": 34
        }
      },
      "source": [
        "matrix_det = tf.linalg.det(matrix3)\n",
        "print(matrix_det)"
      ],
      "execution_count": 0,
      "outputs": [
        {
          "output_type": "stream",
          "text": [
            "tf.Tensor(55.999992, shape=(), dtype=float32)\n"
          ],
          "name": "stdout"
        }
      ]
    },
    {
      "cell_type": "code",
      "metadata": {
        "id": "_m77rlIgiLkm",
        "colab_type": "code",
        "colab": {}
      },
      "source": [
        ""
      ],
      "execution_count": 0,
      "outputs": []
    }
  ]
}