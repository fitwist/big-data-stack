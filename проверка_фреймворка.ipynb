{
  "nbformat": 4,
  "nbformat_minor": 0,
  "metadata": {
    "colab": {
      "name": "проверка_фреймворка.ipynb",
      "provenance": []
    },
    "kernelspec": {
      "name": "python3",
      "display_name": "Python 3"
    }
  },
  "cells": [
    {
      "cell_type": "code",
      "metadata": {
        "id": "ni_7KbdS-TIl",
        "colab_type": "code",
        "colab": {}
      },
      "source": [
        "import tensorflow as tf"
      ],
      "execution_count": 0,
      "outputs": []
    },
    {
      "cell_type": "code",
      "metadata": {
        "id": "JJz-yK6o-df6",
        "colab_type": "code",
        "colab": {
          "base_uri": "https://localhost:8080/",
          "height": 34
        },
        "outputId": "7bdc1660-4c66-492a-dbd8-1678b3921d92"
      },
      "source": [
        "hello = tf.constant('Hello, TensorFlow!')\n",
        "print(hello)"
      ],
      "execution_count": 2,
      "outputs": [
        {
          "output_type": "stream",
          "text": [
            "tf.Tensor(b'Hello, TensorFlow!', shape=(), dtype=string)\n"
          ],
          "name": "stdout"
        }
      ]
    }
  ]
}